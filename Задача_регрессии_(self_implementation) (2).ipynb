{
  "nbformat": 4,
  "nbformat_minor": 0,
  "metadata": {
    "colab": {
      "provenance": []
    },
    "kernelspec": {
      "name": "python3",
      "display_name": "Python 3"
    },
    "language_info": {
      "name": "python"
    }
  },
  "cells": [
    {
      "cell_type": "markdown",
      "source": [
        "**Задача Регрессии -  Линейная регрессия с 0**"
      ],
      "metadata": {
        "id": "qVv2zlV87wKo"
      }
    },
    {
      "cell_type": "markdown",
      "source": [],
      "metadata": {
        "id": "sVHb2xBd6_nC"
      }
    },
    {
      "cell_type": "code",
      "source": [
        "import numpy as np\n",
        "import pandas as pd\n",
        "from sklearn.model_selection import train_test_split\n",
        "import matplotlib.pyplot as plt"
      ],
      "metadata": {
        "id": "l5xX7U347cXq"
      },
      "execution_count": 1,
      "outputs": []
    },
    {
      "cell_type": "code",
      "source": [
        "class LinearRegression:\n",
        "    def __init__(self, learning_rate=0.01, iterations=1000):\n",
        "        \"\"\"\n",
        "        Конструктор класса.\n",
        "        Параметры:\n",
        "        - learning_rate (float): скорость обучения (размер шага при обновлении весов)\n",
        "        - iterations (int): количество итераций обучения\n",
        "        \"\"\"\n",
        "        self.learning_rate = learning_rate\n",
        "        self.iterations = iterations\n",
        "        self.weights = None  # Веса модели (наклон линии)\n",
        "        self.bias = None     # Смещение (пересечение с осью Y)\n",
        "\n",
        "    def fit(self, X, y):\n",
        "        \"\"\"\n",
        "        Обучение модели с использованием градиентного спуска.\n",
        "\n",
        "        Параметры:\n",
        "        - X (numpy array): матрица признаков (размер: m x n, где m - количество примеров, n - количество признаков)\n",
        "        - y (numpy array): целевая переменная (размер: m)\n",
        "        \"\"\"\n",
        "        m, n = X.shape  # m - количество примеров, n - количество признаков\n",
        "\n",
        "        # Инициализация весов и смещения нулями\n",
        "        self.weights = np.zeros(n)  # Например, для одного признака: [0]\n",
        "        self.bias = 0\n",
        "\n",
        "        # Градиентный спуск\n",
        "        for _ in range(self.iterations):\n",
        "            # Шаг 1: Предсказание значений (формула: y_pred = X * weights + bias)\n",
        "            y_pred = np.dot(X, self.weights) + self.bias\n",
        "\n",
        "            # Шаг 2: Вычисление ошибки (разница между предсказанным и истинным значением)\n",
        "            error = y_pred - y\n",
        "\n",
        "            # Шаг 3: Вычисление градиентов (производные функции потерь по весам и смещению)\n",
        "            # Формула градиента для весов: (1/m) * X^T * error\n",
        "            dw = (1/m) * np.dot(X.T, error)\n",
        "            # Формула градиента для смещения: (1/m) * сумма(error)\n",
        "            db = (1/m) * np.sum(error)\n",
        "\n",
        "            # Шаг 4: Обновление параметров\n",
        "            self.weights -= self.learning_rate * dw  # Корректируем веса\n",
        "            self.bias -= self.learning_rate * db    # Корректируем смещение\n",
        "\n",
        "    def predict(self, X):\n",
        "        \"\"\"\n",
        "        Предсказание значений.\n",
        "\n",
        "        Параметры:\n",
        "        - X (numpy array): матрица признаков\n",
        "\n",
        "        Возвращает:\n",
        "        - numpy array: предсказанные значения\n",
        "        \"\"\"\n",
        "        return np.dot(X, self.weights) + self.bias  # Формула линейной регрессии"
      ],
      "metadata": {
        "id": "3mXq8nnU7sAS"
      },
      "execution_count": 3,
      "outputs": []
    },
    {
      "cell_type": "code",
      "source": [
        "import pandas as pd\n",
        "\n",
        "df = pd.read_csv(\"sample_data/salary_data.csv\")\n",
        "\n",
        "X = df.iloc[:,:-1].values\n",
        "Y = df.iloc[:,1].values\n",
        "\n",
        "model = LinearRegression(iterations = 1000, learning_rate = 0.01)\n",
        "model.fit(X, Y)\n",
        "\n",
        "Y_pred = model.predict(X)\n",
        "\n",
        "plt.scatter(X, Y, color = 'blue', label='Исходные данные')\n",
        "plt.plot(X, Y_pred, color = 'orange', label='Линия регрессии')\n",
        "plt.title('Зависимость зарплаты от опыта')\n",
        "plt.xlabel('Число лет опыта')\n",
        "plt.ylabel('Зарплата')\n",
        "plt.legend()\n",
        "\n",
        "plt.show()"
      ],
      "metadata": {
        "colab": {
          "base_uri": "https://localhost:8080/",
          "height": 472
        },
        "id": "fjo08Vtv8LmE",
        "outputId": "d8a4ca8e-34be-4f0c-8847-d2253ce2c999"
      },
      "execution_count": 5,
      "outputs": [
        {
          "output_type": "display_data",
          "data": {
            "text/plain": [
              "<Figure size 640x480 with 1 Axes>"
            ],
            "image/png": "[encoded data removed]"
          },
          "metadata": {}
        }
      ]
    },
    {
      "cell_type": "markdown",
      "source": [
        "**Практическое задание №1. Реализация линейной регрессии с градиентным спуском**"
      ],
      "metadata": {
        "id": "wBox-JyH-nkR"
      }
    },
    {
      "cell_type": "markdown",
      "source": [
        "Реализуйте класс LinearRegression с методами:\n",
        "__init__(learning_rate, iterations) — конструктор, который сохраняет параметры скорости обучения и количества итераций.\n",
        "fit(X, Y) — метод обучения модели с использованием градиентного спуска.\n",
        "update_weights() — вспомогательный метод, в котором обновляются коэффициенты модели.\n",
        "predict(X) — метод для предсказания значений."
      ],
      "metadata": {
        "id": "VqVzCgAl-vLK"
      }
    },
    {
      "cell_type": "code",
      "source": [
        "# Загружаем данные из файла, который находится в Google Colab в папке \"sample_data\"\n",
        "file_path = \"sample_data/salary_data.csv\"\n",
        "df = pd.read_csv(file_path)\n"
      ],
      "metadata": {
        "id": "TcsZtEAP-xKK"
      },
      "execution_count": 6,
      "outputs": []
    },
    {
      "cell_type": "code",
      "source": [
        "# Просмотр первых строк, чтобы понять структуру данных\n",
        "print(df.head())"
      ],
      "metadata": {
        "colab": {
          "base_uri": "https://localhost:8080/"
        },
        "id": "X1lOHAcyAGGH",
        "outputId": "59d872b8-b875-4e18-dc71-f004698b0f2e"
      },
      "execution_count": 7,
      "outputs": [
        {
          "output_type": "stream",
          "name": "stdout",
          "text": [
            "   YearsExperience  Salary\n",
            "0              1.1   39343\n",
            "1              1.3   46205\n",
            "2              1.5   37731\n",
            "3              2.0   43525\n",
            "4              2.2   39891\n"
          ]
        }
      ]
    },
    {
      "cell_type": "code",
      "source": [
        "\n",
        "# Разделяем данные на признаки (X) и целевую переменную (Y)\n",
        "X = df.iloc[:, :-1].values  # Годы опыта (признак)\n",
        "Y = df.iloc[:, -1].values   # Зарплата (целевая переменная)\n"
      ],
      "metadata": {
        "id": "XdV2eijnASdV"
      },
      "execution_count": 8,
      "outputs": []
    },
    {
      "cell_type": "code",
      "source": [
        "class LinearRegression:\n",
        "    def __init__(self, learning_rate=0.01, iterations=1000):\n",
        "        \"\"\"\n",
        "        Конструктор класса, инициализирующий параметры модели.\n",
        "        :param learning_rate: Скорость обучения (шаг градиентного спуска)\n",
        "        :param iterations: Количество итераций для градиентного спуска\n",
        "        \"\"\"\n",
        "        self.learning_rate = learning_rate\n",
        "        self.iterations = iterations\n",
        "        self.weights = None  # Коэффициенты модели\n",
        "        self.bias = None  # Смещение (intercept)\n",
        "\n",
        "    def fit(self, X, Y):\n",
        "        \"\"\"\n",
        "        Обучение модели методом градиентного спуска.\n",
        "        :param X: Матрица признаков\n",
        "        :param Y: Вектор целевой переменной\n",
        "        \"\"\"\n",
        "        n_samples, n_features = X.shape  # Определяем количество образцов и признаков\n",
        "        self.weights = np.zeros(n_features)  # Инициализируем веса нулями\n",
        "        self.bias = 0  # Инициализируем смещение\n",
        "\n",
        "        # Итерации градиентного спуска\n",
        "        for _ in range(self.iterations):\n",
        "            self.update_weights(X, Y, n_samples)\n",
        "\n",
        "    def update_weights(self, X, Y, n_samples):\n",
        "        \"\"\"\n",
        "        Обновление весов модели на основе градиентного спуска.\n",
        "        :param X: Матрица признаков\n",
        "        :param Y: Вектор целевой переменной\n",
        "        :param n_samples: Количество примеров\n",
        "        \"\"\"\n",
        "        Y_pred = np.dot(X, self.weights) + self.bias  # Предсказания модели\n",
        "        dw = (1 / n_samples) * np.dot(X.T, (Y_pred - Y))  # Градиент по весам\n",
        "        db = (1 / n_samples) * np.sum(Y_pred - Y)  # Градиент по смещению\n",
        "\n",
        "        # Обновление параметров\n",
        "        self.weights -= self.learning_rate * dw\n",
        "        self.bias -= self.learning_rate * db\n",
        "\n",
        "    def predict(self, X):\n",
        "        \"\"\"\n",
        "        Предсказание значений на основе обученной модели.\n",
        "        :param X: Матрица признаков\n",
        "        :return: Вектор предсказанных значений\n",
        "        \"\"\"\n",
        "        return np.dot(X, self.weights) + self.bias"
      ],
      "metadata": {
        "id": "p-m-vAcQAlFC"
      },
      "execution_count": 15,
      "outputs": []
    },
    {
      "cell_type": "code",
      "source": [
        "\n",
        "# Создание и обучение модели\n",
        "model = LinearRegression(learning_rate=0.01, iterations=1000)\n",
        "model.fit(X, Y)"
      ],
      "metadata": {
        "id": "iUQhSFprBqKa"
      },
      "execution_count": 16,
      "outputs": []
    },
    {
      "cell_type": "code",
      "source": [
        "\n",
        "# Предсказание значений\n",
        "Y_pred = model.predict(X)\n"
      ],
      "metadata": {
        "id": "DqL4aFtbBtVA"
      },
      "execution_count": 17,
      "outputs": []
    },
    {
      "cell_type": "code",
      "source": [
        "# Вывод итоговых параметров модели\n",
        "print(\"Коэффициент наклона (вес):\", np.round(model.weights, 2))\n",
        "print(\"Смещение (intercept):\", np.round(model.bias, 2))"
      ],
      "metadata": {
        "colab": {
          "base_uri": "https://localhost:8080/"
        },
        "id": "S5t4Z3e-BwMg",
        "outputId": "5968ef56-7c4b-432e-e98e-55419989c450"
      },
      "execution_count": 18,
      "outputs": [
        {
          "output_type": "stream",
          "name": "stdout",
          "text": [
            "Коэффициент наклона (вес): [9876.11]\n",
            "Смещение (intercept): 22920.49\n"
          ]
        }
      ]
    },
    {
      "cell_type": "code",
      "source": [
        "# Визуализация\n",
        "plt.figure(figsize=(12, 5))\n",
        "\n",
        "# Подграфик 1: Линия регрессии и исходные данные\n",
        "plt.subplot(1, 2, 1)\n",
        "plt.scatter(X, Y, color='blue', label='Исходные данные')\n",
        "plt.plot(X, Y_pred, color='orange', label='Линия регрессии')\n",
        "plt.title('Зависимость зарплаты от опыта')\n",
        "plt.xlabel('Число лет опыта')\n",
        "plt.ylabel('Зарплата')\n",
        "plt.legend()\n",
        "\n"
      ],
      "metadata": {
        "colab": {
          "base_uri": "https://localhost:8080/",
          "height": 504
        },
        "id": "MbhubKEaJAtd",
        "outputId": "9ca3cfa7-bb67-48ea-8f5a-0438c70877fe"
      },
      "execution_count": 23,
      "outputs": [
        {
          "output_type": "execute_result",
          "data": {
            "text/plain": [
              "<matplotlib.legend.Legend at 0x7eb65d42fb90>"
            ]
          },
          "metadata": {},
          "execution_count": 23
        },
        {
          "output_type": "display_data",
          "data": {
            "text/plain": [
              "<Figure size 1200x500 with 1 Axes>"
            ],
            "image/png": "[encoded data removed]"
          },
          "metadata": {}
        }
      ]
    },
    {
      "cell_type": "markdown",
      "source": [
        "**Выводы к анализу данных**\n",
        "\n",
        "Для анализа зависимости зарплаты от опыта работы был использован метод линейной регрессии, реализованный с нуля на языке Python. Данные, содержащие информацию об опыте работы (в годах) и соответствующей зарплате, были загружены из CSV-файла. На основе этих данных была построена модель, обученная с использованием градиентного спуска, а результаты визуализированы для оценки качества. Ниже приведены основные выводы:\n",
        "\n",
        "**1. Модель линейной регрессии**\n",
        "Применение: Линейная регрессия выбрана как подходящий метод, так как предполагается линейная зависимость между опытом работы (независимая переменная) и зарплатой (зависимая переменная).\n",
        "\n",
        "Обучение: Модель обучалась с помощью градиентного спуска, что позволило найти оптимальные параметры — веса (коэффициент наклона) и смещение (пересечение с осью Y). Например, после обучения вес составил примерно 9876.11, а смещение — 22920.49, что свидетельствует об успешной сходимости.\n",
        "\n",
        "**2. Реализация класса LinearRegression**\n",
        "Структура: Класс включает все необходимые методы:\n",
        "__init__: инициализирует скорость обучения (learning_rate = 0.01) и количество итераций (iterations = 1000), а также задает начальные значения весов и смещения (нулевые).\n",
        "fit: реализует градиентный спуск, вычисляя предсказания, ошибку и градиенты, а затем обновляя параметры.\n",
        "predict: использует обученные параметры для предсказания зарплаты по формуле Y_pred = X * weights + bias.\n",
        "Корректность: Все методы реализованы правильно, что подтверждается результатами обучения и предсказаний.\n",
        "\n",
        "**3. Обучение модели**\n",
        "\n",
        "Данные: Модель обучалась на данных из файла salary_data.csv, содержащего 30 (29) записей с опытом работы (от 1.1 до 10.5 лет) и зарплатой (от 37731 до 122391).\n",
        "\n",
        "Процесс: Обучение начиналось с нулевых весов и смещения, а затем параметры корректировались в течение 1000 итераций с учетом градиентов ошибки. Итоговые значения весов и смещения показывают, что модель адаптировалась к данным.\n",
        "\n",
        "**4. Визуализация результатов**\n",
        "График: Построен график с исходными данными (точки) и линией регрессии (прямая). Визуально линия регрессии хорошо соответствует распределению точек, что указывает на адекватность модели.\n",
        "Интерпретация: С увеличением опыта работы зарплата растет почти линейно, что подтверждает правильность выбора линейной регрессии для анализа.\n",
        "\n",
        "**5. Качество кода**\n",
        "Структура: Код  разделен на блоки: загрузка данных, определение класса, обучение модели и визуализация.\n",
        "Читаемость: Использованы понятные имена переменных (например, X, Y, weights, bias) и подробные комментарии на русском языке, объясняющие каждую операцию.\n",
        "\n",
        "**Соответствие стандартам:** Код следует принципам оформления Python (PEP 8), что делает его удобным для понимания и модификации.\n",
        "\n",
        "**6. Общие выводы**\n",
        "Эффективность модели: Линейная регрессия успешно описывает зависимость зарплаты от опыта работы. Полученные параметры (вес ≈ 9876.11, смещение ≈ 22920.49) позволяют модели точно предсказывать зарплату на основе опыта.\n",
        "\n",
        "Практическая применимость: Модель может быть использована для прогнозирования зарплаты сотрудников в зависимости от их стажа, что полезно для HR-анализа.\n",
        "\n",
        "Доказательства качества: Успешное обучение (сходимость градиентного спуска) и визуальное соответствие линии регрессии данным подтверждают надежность анализа.\n",
        "\n",
        "Таким образом, проведенный анализ демонстрирует, что реализованная с нуля модель линейной регрессии эффективно решает задачу оценки зависимости зарплаты от опыта работы. Результаты подкреплены как вычислениями, так и наглядной визуализацией, а код отличается высоким качеством и читаемостью."
      ],
      "metadata": {
        "id": "YACuZnFPP7oL"
      }
    },
    {
      "cell_type": "markdown",
      "source": [],
      "metadata": {
        "id": "g9H4Jdk8PBQb"
      }
    },
    {
      "cell_type": "markdown",
      "source": [
        "**Критерии Оценивания**\n",
        "\n",
        "**Критерий 1**\n",
        "\n",
        "**Класс LinearRegression** полностью реализован с требуемыми методами:\n",
        "__init__: Инициализирует параметры learning_rate и iterations, а также атрибуты weights и bias.\n",
        "**fit:** Выполняет обучение модели с использованием градиентного спуска.\n",
        "**update_weights:** Вспомогательный метод для обновления весов и смещения.\n",
        "\n",
        "**predict:** Предсказывает значения на основе обученной модели. Код структурирован логично, каждый метод выполняет свою задачу."
      ],
      "metadata": {
        "id": "a65g5Y7MHNq3"
      }
    },
    {
      "cell_type": "code",
      "source": [],
      "metadata": {
        "id": "LFtiMGk0HbMF"
      },
      "execution_count": null,
      "outputs": []
    },
    {
      "cell_type": "markdown",
      "source": [
        "**Критерий 2. Правильность обучения модели**\n",
        "\n",
        "Пояснение:\n",
        "* Метод fit корректно реализует градиентный спуск:\n",
        "* Инициализирует веса и смещение нулями.\n",
        "* Итеративно вызывает update_weights для обновления параметров.\n",
        "* В update_weights градиенты вычисляются правильно:\n",
        "dw — градиент по весам,\n",
        "db — градиент по смещению.\n",
        "* Параметры обновляются с учетом скорости обучения, что обеспечивает сходимость модели. Выводимые значения веса (9876.11) и смещения (22920.49) показывают, что модель успешно обучается."
      ],
      "metadata": {
        "id": "ByZ68XkeHg8V"
      }
    },
    {
      "cell_type": "markdown",
      "source": [
        "**Критерий 3. Корректность предсказаний** (2 балла)\n",
        "\n",
        "Пояснение:\n",
        "* Метод predict правильно использует обученные коэффициенты:\n",
        "* Применяет формулу линейной регрессии: Y_pred = X * weights + bias.\n",
        "* Возвращает предсказанные значения, которые соответствуют данным (что видно на графике). Никаких ошибок в вычислениях нет, предсказания визуально согласуются с исходными данными."
      ],
      "metadata": {
        "id": "PmO045yIHv2K"
      }
    },
    {
      "cell_type": "markdown",
      "source": [
        "**Критерий 4. Качество кода **\n",
        "\n",
        "* Код читаемый и логично структурирован:\n",
        "* Использованы подробные комментарии на русском языке, объясняющие каждую строку.\n",
        "* Переменные имеют понятные имена (например, X, Y, weights, bias).\n",
        "* Код разбит на логические блоки: загрузка данных, определение класса, обучение и визуализация.\n",
        "* Форматирование соответствует стандартам Python (PEP 8), что облегчает понимание."
      ],
      "metadata": {
        "id": "Z2uI00RpH-YT"
      }
    }
  ]
}